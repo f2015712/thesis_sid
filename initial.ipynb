{
 "cells": [
  {
   "cell_type": "markdown",
   "id": "e3ddf539",
   "metadata": {},
   "source": [
    "**Exploratory Data Analysis**"
   ]
  },
  {
   "cell_type": "markdown",
   "id": "179b52da",
   "metadata": {},
   "source": [
    "As pert of EDA, the following analysis needs to be performed:\n",
    "1. Get maximum insights from a dataset\n",
    "2. Uncover underlying structure\n",
    "3. Extract important variables from the dataset\n",
    "4. Detect outliers and anomalies\n",
    "5. Test the underlying assumptions\n",
    "6. Determine the underlying factor settings"
   ]
  },
  {
   "cell_type": "code",
   "execution_count": 2,
   "id": "63ec52b9",
   "metadata": {},
   "outputs": [],
   "source": [
    "# Importing required libraries\n",
    "import numpy as np\n",
    "import pandas as pd\n",
    "import matplotlib.pyplot as plt\n",
    "import seaborn as sns\n",
    "from itertools import combinations"
   ]
  },
  {
   "cell_type": "code",
   "execution_count": null,
   "id": "01982f77",
   "metadata": {},
   "outputs": [],
   "source": [
    "# Reading file\n",
    "df=pd.read_csv('data.csv')\n",
    "df"
   ]
  },
  {
   "cell_type": "code",
   "execution_count": null,
   "id": "5b15179b",
   "metadata": {},
   "outputs": [],
   "source": [
    "df.columns"
   ]
  },
  {
   "cell_type": "markdown",
   "id": "512acd0f",
   "metadata": {},
   "source": [
    "We can see that there are 8 columns namely event_time, order_id, product_id, category_id,category_code, brand, price and user_id.\n",
    "Price will be the target column here."
   ]
  },
  {
   "cell_type": "code",
   "execution_count": null,
   "id": "2119b832",
   "metadata": {},
   "outputs": [],
   "source": [
    "#Finding the data type of each column\n",
    "df.dtypes"
   ]
  },
  {
   "cell_type": "code",
   "execution_count": null,
   "id": "e18d0545",
   "metadata": {},
   "outputs": [],
   "source": [
    "# Finding null values in each column \n",
    "df.isnull().sum()"
   ]
  },
  {
   "cell_type": "code",
   "execution_count": null,
   "id": "a3465154",
   "metadata": {},
   "outputs": [],
   "source": [
    "len(df)"
   ]
  },
  {
   "cell_type": "markdown",
   "id": "7904d846",
   "metadata": {},
   "source": [
    "It can be see that 16% of category_id values, 23% of category_code values, 19% of brand values, 16% of price values and 78% of user_id values are missing."
   ]
  },
  {
   "cell_type": "code",
   "execution_count": null,
   "id": "dd12eb58",
   "metadata": {},
   "outputs": [],
   "source": [
    "# Checking if the garbage data exists in individual column\n",
    "for col in df.columns:\n",
    "    print('{} : {}'.format(col,df[col].unique()))"
   ]
  },
  {
   "cell_type": "markdown",
   "id": "048efee3",
   "metadata": {},
   "source": [
    "No garbage value was observed. Empty columns already have nan value."
   ]
  },
  {
   "cell_type": "code",
   "execution_count": null,
   "id": "ae956c83",
   "metadata": {},
   "outputs": [],
   "source": [
    "# Visualising the missing values\n",
    "sns.heatmap(df.isnull(),cbar=False,cmap='viridis')"
   ]
  },
  {
   "cell_type": "markdown",
   "id": "4bbff877",
   "metadata": {},
   "source": [
    "We can see that the user_id column has too many missing values and we can drop this column since it's not relevant for price prediction.\n"
   ]
  },
  {
   "cell_type": "code",
   "execution_count": null,
   "id": "64de308a",
   "metadata": {},
   "outputs": [],
   "source": [
    "# Dropping column user_id\n",
    "df=df.drop(['user_id'], axis=1)\n",
    "df.head()"
   ]
  },
  {
   "cell_type": "code",
   "execution_count": null,
   "id": "0108dd37",
   "metadata": {},
   "outputs": [],
   "source": [
    "# Replace numerical missing values with the mean value of the column\n",
    "num_col = ['category_id',  'price']\n",
    "for col in num_col:\n",
    "    df[col]=pd.to_numeric(df[col])\n",
    "    df[col].fillna(df[col].mean(), inplace=True)\n",
    "df.head()"
   ]
  },
  {
   "cell_type": "code",
   "execution_count": null,
   "id": "d3525130",
   "metadata": {},
   "outputs": [],
   "source": [
    "df.isnull().sum()"
   ]
  },
  {
   "cell_type": "code",
   "execution_count": null,
   "id": "2121e2c4",
   "metadata": {},
   "outputs": [],
   "source": [
    "# Replace categorical values with mode of the column\n",
    "cat_col=['category_code','brand']\n",
    "for col in cat_col:    \n",
    "    df[col].fillna(df[col].mode()[0], inplace = True)\n"
   ]
  },
  {
   "cell_type": "code",
   "execution_count": null,
   "id": "c052eb78",
   "metadata": {},
   "outputs": [],
   "source": [
    "df.isnull().sum()"
   ]
  },
  {
   "cell_type": "markdown",
   "id": "1e056692",
   "metadata": {},
   "source": [
    "Now we see that we filled all the null values and we don't have any null values in the dataset"
   ]
  },
  {
   "cell_type": "markdown",
   "id": "913019e0",
   "metadata": {},
   "source": [
    "**Analysing data**"
   ]
  },
  {
   "cell_type": "markdown",
   "id": "abb07569",
   "metadata": {},
   "source": [
    "Once we have done the pre-processing, now let's analyse the relationship between different parameteres.\n",
    "This can be achieved by finding the correlation factor between different parameteres.\n"
   ]
  },
  {
   "cell_type": "code",
   "execution_count": null,
   "id": "864c8500",
   "metadata": {},
   "outputs": [],
   "source": [
    "df.corr()"
   ]
  },
  {
   "cell_type": "code",
   "execution_count": null,
   "id": "40efb675",
   "metadata": {},
   "outputs": [],
   "source": [
    "len(df)"
   ]
  },
  {
   "cell_type": "markdown",
   "id": "21a4c056",
   "metadata": {},
   "source": [
    "Since corr() function only returns the correlation between the numerical values, ignoring the categorical data, we need to encode the categorical data between finding the correlation.\n",
    "Also the size of the dataset is huge. So using one-hot encoding will cost a lot of memory.\n"
   ]
  },
  {
   "cell_type": "code",
   "execution_count": null,
   "id": "1d01aaaa",
   "metadata": {},
   "outputs": [],
   "source": [
    "plt.figure(figsize=(10,10))\n",
    "sns.heatmap(df.corr(),cbar=True,annot=True,cmap='Blues')"
   ]
  },
  {
   "cell_type": "markdown",
   "id": "8af2c0be",
   "metadata": {},
   "source": [
    "We see that price has a positive correlation with order_id and category_id and a negative correlation with product_id.\n",
    "This is not the correct interpretation since id's are just unique identifiers of the object and shouldn't affect the price."
   ]
  },
  {
   "cell_type": "markdown",
   "id": "3814e06d",
   "metadata": {},
   "source": [
    "# Analyzing Data"
   ]
  },
  {
   "cell_type": "markdown",
   "id": "ebc2e22f",
   "metadata": {},
   "source": [
    "**What is the maximum & median value of the order placed?**"
   ]
  },
  {
   "cell_type": "code",
   "execution_count": null,
   "id": "102cf640",
   "metadata": {},
   "outputs": [],
   "source": [
    "df_group_by = df.groupby(['order_id'], as_index=False)['price'].sum()\n",
    "df_group_by"
   ]
  },
  {
   "cell_type": "code",
   "execution_count": null,
   "id": "14621d2d",
   "metadata": {},
   "outputs": [],
   "source": [
    "pd.set_option('display.float_format', lambda x: '%.3f' % x)"
   ]
  },
  {
   "cell_type": "code",
   "execution_count": null,
   "id": "2d4f4236",
   "metadata": {},
   "outputs": [],
   "source": [
    "print(df_group_by[df_group_by['price'] == df_group_by['price'].max()])\n"
   ]
  },
  {
   "cell_type": "code",
   "execution_count": null,
   "id": "13f15cac",
   "metadata": {},
   "outputs": [],
   "source": [
    "df_group_by.median()"
   ]
  },
  {
   "cell_type": "code",
   "execution_count": null,
   "id": "22e22388",
   "metadata": {},
   "outputs": [],
   "source": [
    "df[df['order_id']==2353234364520727464]"
   ]
  },
  {
   "cell_type": "markdown",
   "id": "0b42f807",
   "metadata": {},
   "source": [
    "The maximum value of order placed is 52295.243 with order_id=2353234364520727464. In this order, 3 products were purchased. 2 products belonged to samsumg brand.\n",
    "\n",
    "The median order value is 138.63"
   ]
  },
  {
   "cell_type": "markdown",
   "id": "efca47e4",
   "metadata": {},
   "source": [
    "**Which product is most & least frequently bought?**\n",
    "\n",
    "\n"
   ]
  },
  {
   "cell_type": "code",
   "execution_count": null,
   "id": "66d6636e",
   "metadata": {},
   "outputs": [],
   "source": [
    "df['product_id'].value_counts().sort_values()"
   ]
  },
  {
   "cell_type": "code",
   "execution_count": null,
   "id": "561b8e16",
   "metadata": {},
   "outputs": [],
   "source": [
    "# product_id = 1515966223523303302 is the most frequent item being purchased\n",
    "# product_id = 2388434452476057132,1515966223527522793,1515966223510683181,1515966223510235365 are among the least bought item \n",
    "df[df['product_id']==1515966223523303302]"
   ]
  },
  {
   "cell_type": "code",
   "execution_count": null,
   "id": "38db2968",
   "metadata": {},
   "outputs": [],
   "source": [
    "df[df['product_id']==1515966223510235365]\n"
   ]
  },
  {
   "cell_type": "code",
   "execution_count": null,
   "id": "01fa291a",
   "metadata": {},
   "outputs": [],
   "source": [
    "df[df['product_id']==1515966223510683181]"
   ]
  },
  {
   "cell_type": "markdown",
   "id": "1e08b3da",
   "metadata": {},
   "source": [
    "product_id = 1515966223523303302 is the most frequent purchased product & product_id=1515966223510683181,1515966223510235365 are among the least purchased products.\n",
    "One observation here is that the product which is frequently bought lies close to the median whereas the less frequent bought items are either too left or too right to the median."
   ]
  },
  {
   "cell_type": "markdown",
   "id": "51cf2e02",
   "metadata": {},
   "source": [
    "**How many categories each product has**\n",
    "\n"
   ]
  },
  {
   "cell_type": "code",
   "execution_count": null,
   "id": "611cf5e2",
   "metadata": {},
   "outputs": [],
   "source": [
    "df_group_by = df.groupby(['product_id'])['category_id'].nunique()\n",
    "df_group_by\n",
    "# check if greater than 1"
   ]
  },
  {
   "cell_type": "markdown",
   "id": "ff49688b",
   "metadata": {},
   "source": [
    "This shows that every product has 1 category_id associated to it. Every product belongs to just 1 category. Hence it's a one to one mapping"
   ]
  },
  {
   "cell_type": "markdown",
   "id": "f6b29c18",
   "metadata": {},
   "source": [
    "**Which product generates maximum revenue?**"
   ]
  },
  {
   "cell_type": "code",
   "execution_count": null,
   "id": "2f0f8be9",
   "metadata": {},
   "outputs": [],
   "source": [
    "df_group_by = df.groupby(['product_id'], as_index=False)['price'].sum()\n",
    "df_group_by.sort_values('price')\n",
    "# ascending = False\n",
    "# add head"
   ]
  },
  {
   "cell_type": "code",
   "execution_count": null,
   "id": "720ebaca",
   "metadata": {},
   "outputs": [],
   "source": [
    "#product_id = 1515966223523303302 generates the maximum revenue\n",
    "df[df['product_id']==1515966223523303302]"
   ]
  },
  {
   "cell_type": "markdown",
   "id": "a041e923",
   "metadata": {},
   "source": [
    "product_id=1515966223523303302 generates the maximum revenue. Also this is the most frequent bought product as we saw before."
   ]
  },
  {
   "cell_type": "markdown",
   "id": "31a0a629",
   "metadata": {},
   "source": [
    "**Which brand has maximum sale**"
   ]
  },
  {
   "cell_type": "code",
   "execution_count": null,
   "id": "18450748",
   "metadata": {},
   "outputs": [],
   "source": [
    "# average revenue\n",
    "df_group_by = df.groupby(['brand'], as_index=False)['price'].sum()\n",
    "df_group_by.sort_values('price')"
   ]
  },
  {
   "cell_type": "markdown",
   "id": "1189f1b1",
   "metadata": {},
   "source": [
    "It can be observed that samsumg is the rand which generates the maximum revenue & index brand generates the minimum revenue."
   ]
  },
  {
   "cell_type": "markdown",
   "id": "2761911d",
   "metadata": {},
   "source": [
    "**Algorithm Implementation**"
   ]
  },
  {
   "cell_type": "code",
   "execution_count": 3,
   "id": "b9cd2f96",
   "metadata": {},
   "outputs": [
    {
     "data": {
      "text/html": [
       "<div>\n",
       "<style scoped>\n",
       "    .dataframe tbody tr th:only-of-type {\n",
       "        vertical-align: middle;\n",
       "    }\n",
       "\n",
       "    .dataframe tbody tr th {\n",
       "        vertical-align: top;\n",
       "    }\n",
       "\n",
       "    .dataframe thead th {\n",
       "        text-align: right;\n",
       "    }\n",
       "</style>\n",
       "<table border=\"1\" class=\"dataframe\">\n",
       "  <thead>\n",
       "    <tr style=\"text-align: right;\">\n",
       "      <th></th>\n",
       "      <th>event_time</th>\n",
       "      <th>order_id</th>\n",
       "      <th>product_id</th>\n",
       "      <th>category_id</th>\n",
       "      <th>category_code</th>\n",
       "      <th>brand</th>\n",
       "      <th>price</th>\n",
       "      <th>user_id</th>\n",
       "    </tr>\n",
       "  </thead>\n",
       "  <tbody>\n",
       "    <tr>\n",
       "      <th>0</th>\n",
       "      <td>2020-04-24 11:50:39 UTC</td>\n",
       "      <td>2294359932054536986</td>\n",
       "      <td>1515966223509089906</td>\n",
       "      <td>2.268105e+18</td>\n",
       "      <td>electronics.tablet</td>\n",
       "      <td>samsung</td>\n",
       "      <td>162.01</td>\n",
       "      <td>1.515916e+18</td>\n",
       "    </tr>\n",
       "    <tr>\n",
       "      <th>1</th>\n",
       "      <td>2020-04-24 11:50:39 UTC</td>\n",
       "      <td>2294359932054536986</td>\n",
       "      <td>1515966223509089906</td>\n",
       "      <td>2.268105e+18</td>\n",
       "      <td>electronics.tablet</td>\n",
       "      <td>samsung</td>\n",
       "      <td>162.01</td>\n",
       "      <td>1.515916e+18</td>\n",
       "    </tr>\n",
       "    <tr>\n",
       "      <th>2</th>\n",
       "      <td>2020-04-24 14:37:43 UTC</td>\n",
       "      <td>2294444024058086220</td>\n",
       "      <td>2273948319057183658</td>\n",
       "      <td>2.268105e+18</td>\n",
       "      <td>electronics.audio.headphone</td>\n",
       "      <td>huawei</td>\n",
       "      <td>77.52</td>\n",
       "      <td>1.515916e+18</td>\n",
       "    </tr>\n",
       "    <tr>\n",
       "      <th>3</th>\n",
       "      <td>2020-04-24 14:37:43 UTC</td>\n",
       "      <td>2294444024058086220</td>\n",
       "      <td>2273948319057183658</td>\n",
       "      <td>2.268105e+18</td>\n",
       "      <td>electronics.audio.headphone</td>\n",
       "      <td>huawei</td>\n",
       "      <td>77.52</td>\n",
       "      <td>1.515916e+18</td>\n",
       "    </tr>\n",
       "    <tr>\n",
       "      <th>4</th>\n",
       "      <td>2020-04-24 19:16:21 UTC</td>\n",
       "      <td>2294584263154074236</td>\n",
       "      <td>2273948316817424439</td>\n",
       "      <td>2.268105e+18</td>\n",
       "      <td>NaN</td>\n",
       "      <td>karcher</td>\n",
       "      <td>217.57</td>\n",
       "      <td>1.515916e+18</td>\n",
       "    </tr>\n",
       "  </tbody>\n",
       "</table>\n",
       "</div>"
      ],
      "text/plain": [
       "                event_time             order_id           product_id  \\\n",
       "0  2020-04-24 11:50:39 UTC  2294359932054536986  1515966223509089906   \n",
       "1  2020-04-24 11:50:39 UTC  2294359932054536986  1515966223509089906   \n",
       "2  2020-04-24 14:37:43 UTC  2294444024058086220  2273948319057183658   \n",
       "3  2020-04-24 14:37:43 UTC  2294444024058086220  2273948319057183658   \n",
       "4  2020-04-24 19:16:21 UTC  2294584263154074236  2273948316817424439   \n",
       "\n",
       "    category_id                category_code    brand   price       user_id  \n",
       "0  2.268105e+18           electronics.tablet  samsung  162.01  1.515916e+18  \n",
       "1  2.268105e+18           electronics.tablet  samsung  162.01  1.515916e+18  \n",
       "2  2.268105e+18  electronics.audio.headphone   huawei   77.52  1.515916e+18  \n",
       "3  2.268105e+18  electronics.audio.headphone   huawei   77.52  1.515916e+18  \n",
       "4  2.268105e+18                          NaN  karcher  217.57  1.515916e+18  "
      ]
     },
     "execution_count": 3,
     "metadata": {},
     "output_type": "execute_result"
    }
   ],
   "source": [
    "df=pd.read_csv('data.csv')\n",
    "df.head()"
   ]
  },
  {
   "cell_type": "code",
   "execution_count": 4,
   "id": "353562e1",
   "metadata": {},
   "outputs": [],
   "source": [
    "num_col = ['category_id',  'price']\n",
    "for col in num_col:\n",
    "    df[col]=pd.to_numeric(df[col])\n",
    "    df[col].fillna(df[col].mean(), inplace=True)"
   ]
  },
  {
   "cell_type": "code",
   "execution_count": 5,
   "id": "613bb652",
   "metadata": {},
   "outputs": [],
   "source": [
    "# Replace categorical values with mode of the column\n",
    "cat_col=['category_code','brand']\n",
    "for col in cat_col:    \n",
    "    df[col].fillna(df[col].mode()[0], inplace = True)"
   ]
  },
  {
   "cell_type": "code",
   "execution_count": 6,
   "id": "925ada35",
   "metadata": {},
   "outputs": [],
   "source": [
    "df=df.sort_values('event_time')"
   ]
  },
  {
   "cell_type": "code",
   "execution_count": 7,
   "id": "3136ab43",
   "metadata": {},
   "outputs": [],
   "source": [
    "df = df.dropna(subset=['user_id'])"
   ]
  },
  {
   "cell_type": "code",
   "execution_count": 8,
   "id": "2bbf40ad",
   "metadata": {},
   "outputs": [
    {
     "data": {
      "text/html": [
       "<div>\n",
       "<style scoped>\n",
       "    .dataframe tbody tr th:only-of-type {\n",
       "        vertical-align: middle;\n",
       "    }\n",
       "\n",
       "    .dataframe tbody tr th {\n",
       "        vertical-align: top;\n",
       "    }\n",
       "\n",
       "    .dataframe thead th {\n",
       "        text-align: right;\n",
       "    }\n",
       "</style>\n",
       "<table border=\"1\" class=\"dataframe\">\n",
       "  <thead>\n",
       "    <tr style=\"text-align: right;\">\n",
       "      <th></th>\n",
       "      <th>event_time</th>\n",
       "      <th>order_id</th>\n",
       "      <th>product_id</th>\n",
       "      <th>category_id</th>\n",
       "      <th>category_code</th>\n",
       "      <th>brand</th>\n",
       "      <th>price</th>\n",
       "      <th>user_id</th>\n",
       "    </tr>\n",
       "  </thead>\n",
       "  <tbody>\n",
       "    <tr>\n",
       "      <th>42864</th>\n",
       "      <td>1970-01-01 00:33:40 UTC</td>\n",
       "      <td>2348531873749140190</td>\n",
       "      <td>1515966223509130920</td>\n",
       "      <td>2.268105e+18</td>\n",
       "      <td>computers.components.hdd</td>\n",
       "      <td>transcend</td>\n",
       "      <td>99.51</td>\n",
       "      <td>1.515916e+18</td>\n",
       "    </tr>\n",
       "    <tr>\n",
       "      <th>42883</th>\n",
       "      <td>1970-01-01 00:33:40 UTC</td>\n",
       "      <td>2348531875603022568</td>\n",
       "      <td>1515966223509106869</td>\n",
       "      <td>2.268105e+18</td>\n",
       "      <td>electronics.smartphone</td>\n",
       "      <td>xiaomi</td>\n",
       "      <td>220.78</td>\n",
       "      <td>1.515916e+18</td>\n",
       "    </tr>\n",
       "    <tr>\n",
       "      <th>42759</th>\n",
       "      <td>1970-01-01 00:33:40 UTC</td>\n",
       "      <td>2348531863666033329</td>\n",
       "      <td>1515966223509128873</td>\n",
       "      <td>2.268105e+18</td>\n",
       "      <td>electronics.audio.headphone</td>\n",
       "      <td>sony</td>\n",
       "      <td>9.24</td>\n",
       "      <td>1.515916e+18</td>\n",
       "    </tr>\n",
       "    <tr>\n",
       "      <th>43005</th>\n",
       "      <td>1970-01-01 00:33:40 UTC</td>\n",
       "      <td>2348531887120581416</td>\n",
       "      <td>1515966223509089509</td>\n",
       "      <td>2.268105e+18</td>\n",
       "      <td>electronics.smartphone</td>\n",
       "      <td>apple</td>\n",
       "      <td>416.41</td>\n",
       "      <td>1.515916e+18</td>\n",
       "    </tr>\n",
       "    <tr>\n",
       "      <th>42994</th>\n",
       "      <td>1970-01-01 00:33:40 UTC</td>\n",
       "      <td>2348531886130725667</td>\n",
       "      <td>1515966223509104202</td>\n",
       "      <td>2.268105e+18</td>\n",
       "      <td>computers.peripherals.monitor</td>\n",
       "      <td>samsung</td>\n",
       "      <td>358.77</td>\n",
       "      <td>1.515916e+18</td>\n",
       "    </tr>\n",
       "  </tbody>\n",
       "</table>\n",
       "</div>"
      ],
      "text/plain": [
       "                    event_time             order_id           product_id  \\\n",
       "42864  1970-01-01 00:33:40 UTC  2348531873749140190  1515966223509130920   \n",
       "42883  1970-01-01 00:33:40 UTC  2348531875603022568  1515966223509106869   \n",
       "42759  1970-01-01 00:33:40 UTC  2348531863666033329  1515966223509128873   \n",
       "43005  1970-01-01 00:33:40 UTC  2348531887120581416  1515966223509089509   \n",
       "42994  1970-01-01 00:33:40 UTC  2348531886130725667  1515966223509104202   \n",
       "\n",
       "        category_id                  category_code      brand   price  \\\n",
       "42864  2.268105e+18       computers.components.hdd  transcend   99.51   \n",
       "42883  2.268105e+18         electronics.smartphone     xiaomi  220.78   \n",
       "42759  2.268105e+18    electronics.audio.headphone       sony    9.24   \n",
       "43005  2.268105e+18         electronics.smartphone      apple  416.41   \n",
       "42994  2.268105e+18  computers.peripherals.monitor    samsung  358.77   \n",
       "\n",
       "            user_id  \n",
       "42864  1.515916e+18  \n",
       "42883  1.515916e+18  \n",
       "42759  1.515916e+18  \n",
       "43005  1.515916e+18  \n",
       "42994  1.515916e+18  "
      ]
     },
     "execution_count": 8,
     "metadata": {},
     "output_type": "execute_result"
    }
   ],
   "source": [
    "df.head()"
   ]
  },
  {
   "cell_type": "code",
   "execution_count": 19,
   "id": "9fbdcf07",
   "metadata": {},
   "outputs": [
    {
     "ename": "KeyError",
     "evalue": "1812",
     "output_type": "error",
     "traceback": [
      "\u001b[0;31m---------------------------------------------------------------------------\u001b[0m",
      "\u001b[0;31mKeyError\u001b[0m                                  Traceback (most recent call last)",
      "\u001b[0;32m~/opt/anaconda3/lib/python3.8/site-packages/pandas/core/indexes/base.py\u001b[0m in \u001b[0;36mget_loc\u001b[0;34m(self, key, method, tolerance)\u001b[0m\n\u001b[1;32m   3079\u001b[0m             \u001b[0;32mtry\u001b[0m\u001b[0;34m:\u001b[0m\u001b[0;34m\u001b[0m\u001b[0;34m\u001b[0m\u001b[0m\n\u001b[0;32m-> 3080\u001b[0;31m                 \u001b[0;32mreturn\u001b[0m \u001b[0mself\u001b[0m\u001b[0;34m.\u001b[0m\u001b[0m_engine\u001b[0m\u001b[0;34m.\u001b[0m\u001b[0mget_loc\u001b[0m\u001b[0;34m(\u001b[0m\u001b[0mcasted_key\u001b[0m\u001b[0;34m)\u001b[0m\u001b[0;34m\u001b[0m\u001b[0;34m\u001b[0m\u001b[0m\n\u001b[0m\u001b[1;32m   3081\u001b[0m             \u001b[0;32mexcept\u001b[0m \u001b[0mKeyError\u001b[0m \u001b[0;32mas\u001b[0m \u001b[0merr\u001b[0m\u001b[0;34m:\u001b[0m\u001b[0;34m\u001b[0m\u001b[0;34m\u001b[0m\u001b[0m\n",
      "\u001b[0;32mpandas/_libs/index.pyx\u001b[0m in \u001b[0;36mpandas._libs.index.IndexEngine.get_loc\u001b[0;34m()\u001b[0m\n",
      "\u001b[0;32mpandas/_libs/index.pyx\u001b[0m in \u001b[0;36mpandas._libs.index.IndexEngine.get_loc\u001b[0;34m()\u001b[0m\n",
      "\u001b[0;32mpandas/_libs/hashtable_class_helper.pxi\u001b[0m in \u001b[0;36mpandas._libs.hashtable.Int64HashTable.get_item\u001b[0;34m()\u001b[0m\n",
      "\u001b[0;32mpandas/_libs/hashtable_class_helper.pxi\u001b[0m in \u001b[0;36mpandas._libs.hashtable.Int64HashTable.get_item\u001b[0;34m()\u001b[0m\n",
      "\u001b[0;31mKeyError\u001b[0m: 1812",
      "\nThe above exception was the direct cause of the following exception:\n",
      "\u001b[0;31mKeyError\u001b[0m                                  Traceback (most recent call last)",
      "\u001b[0;32m<ipython-input-19-0b19bc1eb57e>\u001b[0m in \u001b[0;36m<module>\u001b[0;34m\u001b[0m\n\u001b[1;32m      2\u001b[0m \u001b[0;32mfor\u001b[0m \u001b[0mi\u001b[0m \u001b[0;32min\u001b[0m \u001b[0mrange\u001b[0m\u001b[0;34m(\u001b[0m\u001b[0mlen\u001b[0m\u001b[0;34m(\u001b[0m\u001b[0mdf\u001b[0m\u001b[0;34m)\u001b[0m\u001b[0;34m)\u001b[0m\u001b[0;34m:\u001b[0m\u001b[0;34m\u001b[0m\u001b[0;34m\u001b[0m\u001b[0m\n\u001b[1;32m      3\u001b[0m \u001b[0;31m#     print(df['user_id'][i],df['category_code'][i])\u001b[0m\u001b[0;34m\u001b[0m\u001b[0;34m\u001b[0m\u001b[0;34m\u001b[0m\u001b[0m\n\u001b[0;32m----> 4\u001b[0;31m     \u001b[0muser_id\u001b[0m\u001b[0;34m=\u001b[0m\u001b[0mdf\u001b[0m\u001b[0;34m[\u001b[0m\u001b[0;34m'user_id'\u001b[0m\u001b[0;34m]\u001b[0m\u001b[0;34m[\u001b[0m\u001b[0mi\u001b[0m\u001b[0;34m]\u001b[0m\u001b[0;34m\u001b[0m\u001b[0;34m\u001b[0m\u001b[0m\n\u001b[0m\u001b[1;32m      5\u001b[0m     \u001b[0mcategory_code\u001b[0m\u001b[0;34m=\u001b[0m\u001b[0mdf\u001b[0m\u001b[0;34m[\u001b[0m\u001b[0;34m'category_code'\u001b[0m\u001b[0;34m]\u001b[0m\u001b[0;34m[\u001b[0m\u001b[0mi\u001b[0m\u001b[0;34m]\u001b[0m\u001b[0;34m\u001b[0m\u001b[0;34m\u001b[0m\u001b[0m\n\u001b[1;32m      6\u001b[0m \u001b[0;31m#     print(user_id, category_code)\u001b[0m\u001b[0;34m\u001b[0m\u001b[0;34m\u001b[0m\u001b[0;34m\u001b[0m\u001b[0m\n",
      "\u001b[0;32m~/opt/anaconda3/lib/python3.8/site-packages/pandas/core/series.py\u001b[0m in \u001b[0;36m__getitem__\u001b[0;34m(self, key)\u001b[0m\n\u001b[1;32m    851\u001b[0m \u001b[0;34m\u001b[0m\u001b[0m\n\u001b[1;32m    852\u001b[0m         \u001b[0;32melif\u001b[0m \u001b[0mkey_is_scalar\u001b[0m\u001b[0;34m:\u001b[0m\u001b[0;34m\u001b[0m\u001b[0;34m\u001b[0m\u001b[0m\n\u001b[0;32m--> 853\u001b[0;31m             \u001b[0;32mreturn\u001b[0m \u001b[0mself\u001b[0m\u001b[0;34m.\u001b[0m\u001b[0m_get_value\u001b[0m\u001b[0;34m(\u001b[0m\u001b[0mkey\u001b[0m\u001b[0;34m)\u001b[0m\u001b[0;34m\u001b[0m\u001b[0;34m\u001b[0m\u001b[0m\n\u001b[0m\u001b[1;32m    854\u001b[0m \u001b[0;34m\u001b[0m\u001b[0m\n\u001b[1;32m    855\u001b[0m         \u001b[0;32mif\u001b[0m \u001b[0mis_hashable\u001b[0m\u001b[0;34m(\u001b[0m\u001b[0mkey\u001b[0m\u001b[0;34m)\u001b[0m\u001b[0;34m:\u001b[0m\u001b[0;34m\u001b[0m\u001b[0;34m\u001b[0m\u001b[0m\n",
      "\u001b[0;32m~/opt/anaconda3/lib/python3.8/site-packages/pandas/core/series.py\u001b[0m in \u001b[0;36m_get_value\u001b[0;34m(self, label, takeable)\u001b[0m\n\u001b[1;32m    959\u001b[0m \u001b[0;34m\u001b[0m\u001b[0m\n\u001b[1;32m    960\u001b[0m         \u001b[0;31m# Similar to Index.get_value, but we do not fall back to positional\u001b[0m\u001b[0;34m\u001b[0m\u001b[0;34m\u001b[0m\u001b[0;34m\u001b[0m\u001b[0m\n\u001b[0;32m--> 961\u001b[0;31m         \u001b[0mloc\u001b[0m \u001b[0;34m=\u001b[0m \u001b[0mself\u001b[0m\u001b[0;34m.\u001b[0m\u001b[0mindex\u001b[0m\u001b[0;34m.\u001b[0m\u001b[0mget_loc\u001b[0m\u001b[0;34m(\u001b[0m\u001b[0mlabel\u001b[0m\u001b[0;34m)\u001b[0m\u001b[0;34m\u001b[0m\u001b[0;34m\u001b[0m\u001b[0m\n\u001b[0m\u001b[1;32m    962\u001b[0m         \u001b[0;32mreturn\u001b[0m \u001b[0mself\u001b[0m\u001b[0;34m.\u001b[0m\u001b[0mindex\u001b[0m\u001b[0;34m.\u001b[0m\u001b[0m_get_values_for_loc\u001b[0m\u001b[0;34m(\u001b[0m\u001b[0mself\u001b[0m\u001b[0;34m,\u001b[0m \u001b[0mloc\u001b[0m\u001b[0;34m,\u001b[0m \u001b[0mlabel\u001b[0m\u001b[0;34m)\u001b[0m\u001b[0;34m\u001b[0m\u001b[0;34m\u001b[0m\u001b[0m\n\u001b[1;32m    963\u001b[0m \u001b[0;34m\u001b[0m\u001b[0m\n",
      "\u001b[0;32m~/opt/anaconda3/lib/python3.8/site-packages/pandas/core/indexes/base.py\u001b[0m in \u001b[0;36mget_loc\u001b[0;34m(self, key, method, tolerance)\u001b[0m\n\u001b[1;32m   3080\u001b[0m                 \u001b[0;32mreturn\u001b[0m \u001b[0mself\u001b[0m\u001b[0;34m.\u001b[0m\u001b[0m_engine\u001b[0m\u001b[0;34m.\u001b[0m\u001b[0mget_loc\u001b[0m\u001b[0;34m(\u001b[0m\u001b[0mcasted_key\u001b[0m\u001b[0;34m)\u001b[0m\u001b[0;34m\u001b[0m\u001b[0;34m\u001b[0m\u001b[0m\n\u001b[1;32m   3081\u001b[0m             \u001b[0;32mexcept\u001b[0m \u001b[0mKeyError\u001b[0m \u001b[0;32mas\u001b[0m \u001b[0merr\u001b[0m\u001b[0;34m:\u001b[0m\u001b[0;34m\u001b[0m\u001b[0;34m\u001b[0m\u001b[0m\n\u001b[0;32m-> 3082\u001b[0;31m                 \u001b[0;32mraise\u001b[0m \u001b[0mKeyError\u001b[0m\u001b[0;34m(\u001b[0m\u001b[0mkey\u001b[0m\u001b[0;34m)\u001b[0m \u001b[0;32mfrom\u001b[0m \u001b[0merr\u001b[0m\u001b[0;34m\u001b[0m\u001b[0;34m\u001b[0m\u001b[0m\n\u001b[0m\u001b[1;32m   3083\u001b[0m \u001b[0;34m\u001b[0m\u001b[0m\n\u001b[1;32m   3084\u001b[0m         \u001b[0;32mif\u001b[0m \u001b[0mtolerance\u001b[0m \u001b[0;32mis\u001b[0m \u001b[0;32mnot\u001b[0m \u001b[0;32mNone\u001b[0m\u001b[0;34m:\u001b[0m\u001b[0;34m\u001b[0m\u001b[0;34m\u001b[0m\u001b[0m\n",
      "\u001b[0;31mKeyError\u001b[0m: 1812"
     ]
    }
   ],
   "source": [
    "item_user={}\n",
    "for i in range(len(df)):\n",
    "#     print(df['user_id'][i],df['category_code'][i])\n",
    "    user_id=df['user_id'][i]\n",
    "    category_code=df['category_code'][i]\n",
    "#     print(user_id, category_code)\n",
    "    try:\n",
    "        item_user[user_id]=[category_code]\n",
    "    except:\n",
    "        item_user[user_id].append(category_code)\n",
    "# print(item_user)"
   ]
  },
  {
   "cell_type": "code",
   "execution_count": 22,
   "id": "6384f873",
   "metadata": {},
   "outputs": [],
   "source": [
    "df_group=df.groupby(['user_id'])['category_code'].apply(','.join).reset_index()"
   ]
  },
  {
   "cell_type": "code",
   "execution_count": 26,
   "id": "b314d41a",
   "metadata": {},
   "outputs": [
    {
     "data": {
      "text/html": [
       "<div>\n",
       "<style scoped>\n",
       "    .dataframe tbody tr th:only-of-type {\n",
       "        vertical-align: middle;\n",
       "    }\n",
       "\n",
       "    .dataframe tbody tr th {\n",
       "        vertical-align: top;\n",
       "    }\n",
       "\n",
       "    .dataframe thead th {\n",
       "        text-align: right;\n",
       "    }\n",
       "</style>\n",
       "<table border=\"1\" class=\"dataframe\">\n",
       "  <thead>\n",
       "    <tr style=\"text-align: right;\">\n",
       "      <th></th>\n",
       "      <th>user_id</th>\n",
       "      <th>category_code</th>\n",
       "    </tr>\n",
       "  </thead>\n",
       "  <tbody>\n",
       "    <tr>\n",
       "      <th>0</th>\n",
       "      <td>1.515916e+18</td>\n",
       "      <td>electronics.video.tv</td>\n",
       "    </tr>\n",
       "    <tr>\n",
       "      <th>1</th>\n",
       "      <td>1.515916e+18</td>\n",
       "      <td>kids.toys,computers.network.router</td>\n",
       "    </tr>\n",
       "    <tr>\n",
       "      <th>2</th>\n",
       "      <td>1.515916e+18</td>\n",
       "      <td>electronics.smartphone,electronics.video.tv,el...</td>\n",
       "    </tr>\n",
       "    <tr>\n",
       "      <th>3</th>\n",
       "      <td>1.515916e+18</td>\n",
       "      <td>electronics.smartphone,electronics.smartphone,...</td>\n",
       "    </tr>\n",
       "    <tr>\n",
       "      <th>4</th>\n",
       "      <td>1.515916e+18</td>\n",
       "      <td>appliances.kitchen.microwave,appliances.enviro...</td>\n",
       "    </tr>\n",
       "    <tr>\n",
       "      <th>...</th>\n",
       "      <td>...</td>\n",
       "      <td>...</td>\n",
       "    </tr>\n",
       "    <tr>\n",
       "      <th>98257</th>\n",
       "      <td>1.515916e+18</td>\n",
       "      <td>electronics.smartphone</td>\n",
       "    </tr>\n",
       "    <tr>\n",
       "      <th>98258</th>\n",
       "      <td>1.515916e+18</td>\n",
       "      <td>computers.notebook</td>\n",
       "    </tr>\n",
       "    <tr>\n",
       "      <th>98259</th>\n",
       "      <td>1.515916e+18</td>\n",
       "      <td>electronics.smartphone,electronics.smartphone,...</td>\n",
       "    </tr>\n",
       "    <tr>\n",
       "      <th>98260</th>\n",
       "      <td>1.515916e+18</td>\n",
       "      <td>electronics.smartphone</td>\n",
       "    </tr>\n",
       "    <tr>\n",
       "      <th>98261</th>\n",
       "      <td>1.515916e+18</td>\n",
       "      <td>electronics.smartphone</td>\n",
       "    </tr>\n",
       "  </tbody>\n",
       "</table>\n",
       "<p>98262 rows × 2 columns</p>\n",
       "</div>"
      ],
      "text/plain": [
       "            user_id                                      category_code\n",
       "0      1.515916e+18                               electronics.video.tv\n",
       "1      1.515916e+18                 kids.toys,computers.network.router\n",
       "2      1.515916e+18  electronics.smartphone,electronics.video.tv,el...\n",
       "3      1.515916e+18  electronics.smartphone,electronics.smartphone,...\n",
       "4      1.515916e+18  appliances.kitchen.microwave,appliances.enviro...\n",
       "...             ...                                                ...\n",
       "98257  1.515916e+18                             electronics.smartphone\n",
       "98258  1.515916e+18                                 computers.notebook\n",
       "98259  1.515916e+18  electronics.smartphone,electronics.smartphone,...\n",
       "98260  1.515916e+18                             electronics.smartphone\n",
       "98261  1.515916e+18                             electronics.smartphone\n",
       "\n",
       "[98262 rows x 2 columns]"
      ]
     },
     "execution_count": 26,
     "metadata": {},
     "output_type": "execute_result"
    }
   ],
   "source": [
    "df_group"
   ]
  },
  {
   "cell_type": "code",
   "execution_count": 63,
   "id": "eb15dc05",
   "metadata": {},
   "outputs": [],
   "source": [
    "DATASET=df_group['category_code']"
   ]
  },
  {
   "cell_type": "code",
   "execution_count": 104,
   "id": "900c3f9e",
   "metadata": {},
   "outputs": [
    {
     "name": "stderr",
     "output_type": "stream",
     "text": [
      "/Users/siddharthshukla/opt/anaconda3/lib/python3.8/site-packages/ipykernel/ipkernel.py:287: DeprecationWarning: `should_run_async` will not call `transform_cell` automatically in the future. Please pass the result to `transformed_cell` argument and any exception that happen during thetransform in `preprocessing_exc_tuple` in IPython 7.17 and above.\n",
      "  and should_run_async(code)\n"
     ]
    }
   ],
   "source": [
    "dataset=[]\n",
    "for i in range(len(DATASET)):\n",
    "    dataset.append(DATASET[i].split(\",\"))\n",
    "#print(dataset)"
   ]
  },
  {
   "cell_type": "code",
   "execution_count": 68,
   "id": "5451606e",
   "metadata": {},
   "outputs": [],
   "source": [
    "from itertools import combinations\n",
    "\n",
    "def generate_frequent_itemsets(dataset, min_support):\n",
    "    itemsets = []\n",
    "    support_counts = {}\n",
    "    num_transactions = len(dataset)\n",
    "    # Generate frequent 1-itemsets\n",
    "    frequent_1_itemsets = {}\n",
    "    for transaction in dataset:\n",
    "        for item in transaction:\n",
    "            \n",
    "            itemset = frozenset([item])\n",
    "            frequent_1_itemsets[itemset] = frequent_1_itemsets.get(itemset, 0) + 1\n",
    "    \n",
    "    frequent_itemsets = {1: frequent_1_itemsets}\n",
    "    \n",
    "    # Generate frequent k-itemsets (k > 1)\n",
    "    k = 2\n",
    "    while frequent_itemsets.get(k - 1):\n",
    "        candidate_itemsets = set()\n",
    "        \n",
    "        # Generate candidate itemsets\n",
    "        for itemset1 in frequent_itemsets[k - 1]:\n",
    "            for itemset2 in frequent_itemsets[k - 1]:\n",
    "                union_set = itemset1.union(itemset2)\n",
    "                if len(union_set) == k:\n",
    "                    candidate_itemsets.add(union_set)\n",
    "        \n",
    "        # Count support for candidate itemsets\n",
    "        frequent_k_itemsets = {}\n",
    "        for transaction in dataset:\n",
    "            for itemset in candidate_itemsets:\n",
    "                if itemset.issubset(transaction):\n",
    "                    frequent_k_itemsets[itemset] = frequent_k_itemsets.get(itemset, 0) + 1\n",
    "        \n",
    "        # Prune infrequent itemsets\n",
    "        frequent_k_itemsets = {itemset: count for itemset, count in frequent_k_itemsets.items()\n",
    "                               if count / num_transactions >= min_support}\n",
    "        \n",
    "        if frequent_k_itemsets:\n",
    "            frequent_itemsets[k] = frequent_k_itemsets\n",
    "            itemsets.extend(frequent_k_itemsets.keys())\n",
    "        \n",
    "        k += 1\n",
    "    return itemsets, frequent_itemsets\n",
    "\n",
    "\n",
    "def generate_association_rules(frequent_itemsets, min_confidence):\n",
    "    rules = []\n",
    "    \n",
    "    for k, itemsets in frequent_itemsets.items():\n",
    "        if k < 2:\n",
    "            continue\n",
    "        \n",
    "        for itemset in itemsets:\n",
    "            for i in range(1, k):\n",
    "                for antecedent in combinations(itemset, i):\n",
    "                    antecedent = frozenset(antecedent)\n",
    "                    consequent = itemset.difference(antecedent)\n",
    "                    confidence = itemsets[itemset] / frequent_itemsets[len(antecedent)][antecedent]\n",
    "                    \n",
    "                    if confidence >= min_confidence:\n",
    "                        rule = (antecedent, consequent, confidence)\n",
    "                        rules.append(rule)\n",
    "    \n",
    "    return rules\n"
   ]
  },
  {
   "cell_type": "code",
   "execution_count": 75,
   "id": "e7beb59e",
   "metadata": {},
   "outputs": [
    {
     "name": "stdout",
     "output_type": "stream",
     "text": [
      "Frequent itemsets:\n",
      "frozenset({'electronics.smartphone', 'electronics.video.tv'})\n",
      "frozenset({'electronics.audio.headphone', 'electronics.smartphone'})\n",
      "frozenset({'appliances.kitchen.refrigerators', 'electronics.smartphone'})\n",
      "frozenset({'appliances.environment.vacuum', 'electronics.smartphone'})\n",
      "frozenset({'computers.notebook', 'electronics.smartphone'})\n",
      "\n",
      "Association rules:\n",
      "frozenset({'electronics.video.tv'}) => frozenset({'electronics.smartphone'}) (Confidence: 0.32999320652173914)\n",
      "frozenset({'electronics.audio.headphone'}) => frozenset({'electronics.smartphone'}) (Confidence: 0.33798827154358413)\n",
      "frozenset({'appliances.kitchen.refrigerators'}) => frozenset({'electronics.smartphone'}) (Confidence: 0.3034166994879874)\n",
      "frozenset({'appliances.environment.vacuum'}) => frozenset({'electronics.smartphone'}) (Confidence: 0.3167927004562215)\n",
      "frozenset({'computers.notebook'}) => frozenset({'electronics.smartphone'}) (Confidence: 0.28796114259280675)\n"
     ]
    }
   ],
   "source": [
    "min_support = 0.05\n",
    "min_confidence = 0.05\n",
    "\n",
    "itemsets, frequent_itemsets = generate_frequent_itemsets(dataset, min_support)\n",
    "rules = generate_association_rules(frequent_itemsets, min_confidence)\n",
    "\n",
    "# Print results\n",
    "print(\"Frequent itemsets:\")\n",
    "for itemset in itemsets:\n",
    "    print(itemset)\n",
    "\n",
    "print(\"\\nAssociation rules:\")\n",
    "for rule in rules:\n",
    "    antecedent, consequent, confidence = rule\n",
    "    print(f\"{antecedent} => {consequent} (Confidence: {confidence})\")\n",
    "\n"
   ]
  },
  {
   "cell_type": "code",
   "execution_count": 78,
   "id": "966916bd",
   "metadata": {},
   "outputs": [
    {
     "name": "stdout",
     "output_type": "stream",
     "text": [
      "Frequent itemsets:\n",
      "frozenset({'electronics.audio.headphone', 'electronics.smartphone'})\n",
      "frozenset({'appliances.kitchen.refrigerators', 'electronics.smartphone'})\n",
      "frozenset({'computers.notebook', 'electronics.smartphone'})\n",
      "\n",
      "Association rules:\n",
      "frozenset({'electronics.audio.headphone'}) => frozenset({'electronics.smartphone'}) (Confidence: 0.33798827154358413)\n",
      "frozenset({'appliances.kitchen.refrigerators'}) => frozenset({'electronics.smartphone'}) (Confidence: 0.3034166994879874)\n",
      "frozenset({'computers.notebook'}) => frozenset({'electronics.smartphone'}) (Confidence: 0.28796114259280675)\n"
     ]
    }
   ],
   "source": [
    "min_support = 0.06\n",
    "min_confidence = 0.1\n",
    "\n",
    "itemsets, frequent_itemsets = generate_frequent_itemsets(dataset, min_support)\n",
    "rules = generate_association_rules(frequent_itemsets, min_confidence)\n",
    "\n",
    "# Print results\n",
    "print(\"Frequent itemsets:\")\n",
    "for itemset in itemsets:\n",
    "    print(itemset)\n",
    "\n",
    "print(\"\\nAssociation rules:\")\n",
    "for rule in rules:\n",
    "    antecedent, consequent, confidence = rule\n",
    "    print(f\"{antecedent} => {consequent} (Confidence: {confidence})\")"
   ]
  },
  {
   "cell_type": "code",
   "execution_count": 123,
   "id": "84a228c1",
   "metadata": {},
   "outputs": [
    {
     "name": "stderr",
     "output_type": "stream",
     "text": [
      "/Users/siddharthshukla/opt/anaconda3/lib/python3.8/site-packages/ipykernel/ipkernel.py:287: DeprecationWarning: `should_run_async` will not call `transform_cell` automatically in the future. Please pass the result to `transformed_cell` argument and any exception that happen during thetransform in `preprocessing_exc_tuple` in IPython 7.17 and above.\n",
      "  and should_run_async(code)\n"
     ]
    }
   ],
   "source": [
    "import pandas as pd\n",
    "from mlxtend.preprocessing import TransactionEncoder\n",
    "from mlxtend.frequent_patterns import association_rules\n",
    "\n",
    "te = TransactionEncoder()\n",
    "te_array = te.fit(dataset).transform(dataset)\n",
    "df = pd.DataFrame(te_array, columns=te.columns_)\n",
    "\n",
    "from mlxtend.frequent_patterns import fpgrowth\n",
    "\n",
    "\n",
    "frequent_itemsets_fp=fpgrowth(df, min_support=0.06, use_colnames=True)\n",
    "rules_fp = association_rules(frequent_itemsets_fp, metric=\"confidence\", min_threshold=0.1)\n"
   ]
  },
  {
   "cell_type": "code",
   "execution_count": 124,
   "id": "25c15487",
   "metadata": {},
   "outputs": [
    {
     "name": "stderr",
     "output_type": "stream",
     "text": [
      "/Users/siddharthshukla/opt/anaconda3/lib/python3.8/site-packages/ipykernel/ipkernel.py:287: DeprecationWarning: `should_run_async` will not call `transform_cell` automatically in the future. Please pass the result to `transformed_cell` argument and any exception that happen during thetransform in `preprocessing_exc_tuple` in IPython 7.17 and above.\n",
      "  and should_run_async(code)\n"
     ]
    }
   ],
   "source": [
    "\n",
    "frequent_itemsets_fp.to_excel('frequent_itemsets_fp_v1.xlsx')"
   ]
  },
  {
   "cell_type": "code",
   "execution_count": null,
   "id": "02041012",
   "metadata": {},
   "outputs": [],
   "source": []
  }
 ],
 "metadata": {
  "kernelspec": {
   "display_name": "Python 3",
   "language": "python",
   "name": "python3"
  }
 },
 "nbformat": 4,
 "nbformat_minor": 5
}
